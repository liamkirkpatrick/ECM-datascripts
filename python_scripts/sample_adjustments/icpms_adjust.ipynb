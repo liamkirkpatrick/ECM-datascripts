{
 "cells": [
  {
   "cell_type": "code",
   "execution_count": 6,
   "metadata": {},
   "outputs": [],
   "source": [
    "import numpy as np\n",
    "import matplotlib.pyplot as plt\n",
    "import pandas as pd"
   ]
  },
  {
   "cell_type": "code",
   "execution_count": 7,
   "metadata": {},
   "outputs": [],
   "source": [
    "# Set filepaths\n",
    "\n",
    "path_to_data = '../../data/sampling/icpms/'\n",
    "path_to_angle = '../../data/angles/'\n",
    "\n",
    "cores = ['alhic2302','alhic2302','alhic2302','alhic2302','alhic1901']\n",
    "sections = ['155_2','156_2','158','159_3','230_4']\n",
    "\n",
    "#cores = ['alhic1901']\n",
    "#sections = ['230_4']\n"
   ]
  },
  {
   "cell_type": "code",
   "execution_count": 8,
   "metadata": {},
   "outputs": [
    {
     "name": "stdout",
     "output_type": "stream",
     "text": [
      "Index(['ID', 'core', 'section', 'cut', 'Top Depth (cm)', 'Bot Depth (cm)',\n",
      "       'Li', 'Rb', 'Sr', 'Zr', 'Mo', 'Cd', 'Cs', 'Ba', 'La', 'Ce', 'Pr', 'Nd',\n",
      "       'Sm', 'Eu', 'Tb', 'Gd', 'Dy', 'Ho', 'Er', 'Tm', 'Yb', 'Lu', 'Pb', 'Th',\n",
      "       'U', 'Be', 'W', 'Na', 'Mg', 'Al', 'P', 'Ca', 'Ti', 'V', 'Cr', 'Mn',\n",
      "       'Fe', 'Co', 'Ni', 'Cu', 'Zn', 'S', 'Si', 'K', 'As'],\n",
      "      dtype='object')\n"
     ]
    }
   ],
   "source": [
    "# Load metadata\n",
    "meta = pd.read_excel(path_to_data + 'icpms_metadata.xlsx')\n",
    "meta['section'] = meta['section'].astype(str)\n",
    "\n",
    "# load science data\n",
    "df = pd.read_csv(path_to_data + 'icpms_raw.csv')\n",
    "print(df.columns)\n",
    "df['top_depth'] = df['Top Depth (cm)'] / 100\n",
    "df['bot_depth'] = df['Bot Depth (cm)'] / 100\n",
    "df['ave_depth'] = (df['top_depth'] + df['bot_depth']) / 2\n",
    "df['top_depth_adj'] = df['top_depth']\n",
    "df['bot_depth_adj'] = df['bot_depth']\n",
    "df['ave_depth_adj'] = df['ave_depth']\n",
    "df['y_m'] = 0\n",
    "df['x_m'] = 0\n",
    "\n",
    "df = df.drop(columns=['Top Depth (cm)','Bot Depth (cm)'])\n",
    "\n",
    "# load angle data\n",
    "core = 'alhic2302'\n",
    "angles = pd.read_csv(path_to_angle+core+'_deepangles_means.csv',index_col=0)"
   ]
  },
  {
   "cell_type": "code",
   "execution_count": 9,
   "metadata": {},
   "outputs": [
    {
     "name": "stdout",
     "output_type": "stream",
     "text": [
      "Processing section 155_2\n",
      "Top Depth [126.389]\n",
      "     y_shift: [-12.35561698]\n",
      "     x_shift: [25.52295261]\n",
      "     Shift for section 155_2 is [13.16733563]\n",
      "Processing section 156_2\n",
      "Top Depth [127.688]\n",
      "     y_shift: [-1.26539215]\n",
      "     x_shift: [56.29553126]\n",
      "     Shift for section 156_2 is [55.03013911]\n",
      "Processing section 158\n",
      "Top Depth [128.715]\n",
      "     y_shift: [-1.24271306]\n",
      "     x_shift: [26.06860739]\n",
      "     Shift for section 158 is [24.82589433]\n",
      "Processing section 159_3\n",
      "Top Depth [129.82]\n",
      "     y_shift: [6.67907644]\n",
      "     x_shift: [-31.76073337]\n",
      "     Shift for section 159_3 is [-25.08165693]\n",
      "Processing section 230_4\n",
      "Top Depth [156.799]\n",
      "     y_shift: [9.23760431]\n",
      "     x_shift: [-26.55811238]\n",
      "     Shift for section 230_4 is [-17.32050808]\n"
     ]
    }
   ],
   "source": [
    "# Apply dip adnjustment\n",
    "\n",
    "# loop through sticks and core/section combos\n",
    "for core,section in zip(cores,sections):\n",
    "\n",
    "    # get the angle of the core, apply a dip adjustment if angle data exists\n",
    "    if section in angles.index or section == '230_4':\n",
    "\n",
    "        print(\"Processing section \"+section)\n",
    "\n",
    "        run_angle = True\n",
    "\n",
    "        if section == '230_4':\n",
    "            x_angle = -30\n",
    "            y_angle = -30\n",
    "        else:\n",
    "            x_angle = angles.at[section,'AC-tr-mean-angle']\n",
    "            y_angle = angles.at[section,'AC-r-mean-angle']\n",
    "\n",
    "        # get cut data\n",
    "        meta_row = meta[(meta['core']==core) & (meta['section']==section)]\n",
    "        y = (meta_row['y_hi'].to_numpy() + meta_row['y_lo'].to_numpy())/2\n",
    "        x = (meta_row['x_hi'].to_numpy() + meta_row['x_lo'].to_numpy())/2\n",
    "        top_depth = meta_row['top_depth'].to_numpy() + meta_row['offset_mm'].to_numpy()/1000\n",
    "\n",
    "        print(\"Top Depth \"+str(top_depth))\n",
    "\n",
    "        #print(meta_row)\n",
    "\n",
    "        # compute shift due to layer angle adjustment\n",
    "        y_shift = -y * np.tan(y_angle*np.pi/180)\n",
    "        x_shift = x * np.tan(x_angle*np.pi/180)\n",
    "        shift = y_shift + x_shift\n",
    "        print(\"     y_shift: \"+str(y_shift))\n",
    "        print(\"     x_shift: \"+str(x_shift))        \n",
    "        print(\"     Shift for section \"+ section + \" is \"+str(shift))\n",
    "\n",
    "    else:\n",
    "        print(\"Angle not found for section \"+ section)\n",
    "        run_angle = False\n",
    "\n",
    "\n",
    "\n",
    "    if run_angle:\n",
    "        df.loc[(df['core'] == core) & (df['section'] == section) , 'top_depth_adj'] += top_depth[0]+shift/1000\n",
    "        df.loc[(df['core'] == core) & (df['section'] == section), 'bot_depth_adj'] += top_depth[0]+shift/1000\n",
    "        df.loc[(df['core'] == core) & (df['section'] == section), 'ave_depth_adj'] += top_depth[0]+shift/1000\n",
    "        df.loc[(df['core'] == core) & (df['section'] == section), 'top_depth'] += top_depth[0]\n",
    "        df.loc[(df['core'] == core) & (df['section'] == section), 'bot_depth'] += top_depth[0]\n",
    "        df.loc[(df['core'] == core) & (df['section'] == section), 'ave_depth'] += top_depth[0]\n",
    "        df.loc[(df['core'] == core) & (df['section'] == section), 'y_m'] += y/1000\n",
    "        df.loc[(df['core'] == core) & (df['section'] == section), 'x_m'] += x/1000\n",
    "    else:\n",
    "        print(\"ERROR\")"
   ]
  },
  {
   "cell_type": "code",
   "execution_count": 10,
   "metadata": {},
   "outputs": [],
   "source": [
    "# wrap up - reordering columns, saving to csv\n",
    "\n",
    "# reorder columns\n",
    "columns_to_move = ['core','section','ave_depth','ave_depth_adj','y_m','x_m']\n",
    "columns = df.columns.tolist()\n",
    "for col in columns_to_move:\n",
    "    columns.remove(col)\n",
    "columns = columns_to_move + columns\n",
    "df = df[columns]\n",
    "\n",
    "# save to csv\n",
    "df.to_csv(path_to_data + 'master_icpms.csv',index=False)"
   ]
  },
  {
   "cell_type": "code",
   "execution_count": null,
   "metadata": {},
   "outputs": [],
   "source": []
  }
 ],
 "metadata": {
  "kernelspec": {
   "display_name": "ecm",
   "language": "python",
   "name": "python3"
  },
  "language_info": {
   "codemirror_mode": {
    "name": "ipython",
    "version": 3
   },
   "file_extension": ".py",
   "mimetype": "text/x-python",
   "name": "python",
   "nbconvert_exporter": "python",
   "pygments_lexer": "ipython3",
   "version": "3.11.4"
  }
 },
 "nbformat": 4,
 "nbformat_minor": 2
}
